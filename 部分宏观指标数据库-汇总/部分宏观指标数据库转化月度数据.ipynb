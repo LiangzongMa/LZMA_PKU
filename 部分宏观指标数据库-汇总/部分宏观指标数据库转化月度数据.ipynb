{
 "cells": [
  {
   "cell_type": "markdown",
   "metadata": {},
   "source": [
    "# 部分宏观指标数据转化为月度数据"
   ]
  },
  {
   "cell_type": "code",
   "execution_count": 12,
   "metadata": {},
   "outputs": [],
   "source": [
    "import pandas as pd\n",
    "import numpy as np\n",
    "import datetime\n",
    "import os"
   ]
  },
  {
   "cell_type": "code",
   "execution_count": 13,
   "metadata": {},
   "outputs": [],
   "source": [
    "data_origin_file = os.listdir('部分宏观指标数据库')\n",
    "data_origin = {}\n",
    "for file in data_origin_file:\n",
    "    try:\n",
    "        data_temp = pd.read_excel('部分宏观指标数据库/'+file)\n",
    "        frequency = data_temp.iloc[0, 1]\n",
    "        data_temp = data_temp.iloc[1:data_temp.shape[0]-2]\n",
    "        data_temp['date'] = data_temp['指标名称']\n",
    "        del data_temp['指标名称']\n",
    "    except:\n",
    "        continue\n",
    "    else:\n",
    "        data_origin[file[:-5]] = {'data': data_temp, 'frequency': frequency}"
   ]
  },
  {
   "cell_type": "code",
   "execution_count": 14,
   "metadata": {},
   "outputs": [],
   "source": [
    "file_name = list(data_origin.keys())"
   ]
  },
  {
   "cell_type": "code",
   "execution_count": 15,
   "metadata": {},
   "outputs": [],
   "source": [
    "# 转化为月度数据\n",
    "data_monthly = {} # 存放月度数据的字典\n",
    "for file in file_name:\n",
    "    if data_origin[file]['frequency'] != '年':\n",
    "        data = data_origin[file]['data'].copy()\n",
    "        if data_origin[file]['frequency'] != '月':\n",
    "            data['date'] = data['date'].apply(lambda x: datetime.datetime.strptime(x[:-3], '%Y-%m'))\n",
    "            data.iloc[:, 0] = data.iloc[:, 0].astype(float)\n",
    "            data_monthly[file] = data.groupby('date').mean()\n",
    "        else:\n",
    "            data['date'] = data['date'].apply(lambda x: datetime.datetime.strptime(x, '%Y-%m'))\n",
    "            data = data.set_index('date')\n",
    "            data_monthly[file] = data"
   ]
  },
  {
   "cell_type": "code",
   "execution_count": 16,
   "metadata": {},
   "outputs": [],
   "source": [
    "# 计算月度环比\n",
    "data_mom = {} # 存放月度环比数据的字典\n",
    "for file in data_monthly.keys():\n",
    "    data_mom[file] = data_monthly[file].pct_change(periods=1)"
   ]
  },
  {
   "cell_type": "code",
   "execution_count": 17,
   "metadata": {},
   "outputs": [],
   "source": [
    "# 计算月度同比\n",
    "data_yoy = {} # 存放月度同比数据的字典\n",
    "for file in data_monthly.keys():\n",
    "    data = data_monthly[file].copy()\n",
    "    data_ = data.copy()\n",
    "    column_name = data.columns[0]\n",
    "    for i in range(len(data.index)):\n",
    "        last_year = datetime.datetime(data.index[i].year-1, data.index[i].month, data.index[i].day)\n",
    "        if last_year in data.index:\n",
    "            data_.loc[data.index[i], column_name] = data.loc[data.index[i], column_name] / data.loc[last_year, column_name] - 1\n",
    "        else:\n",
    "            data_.loc[data.index[i], column_name] = np.nan\n",
    "    data_yoy[file] = data_"
   ]
  },
  {
   "cell_type": "code",
   "execution_count": 18,
   "metadata": {},
   "outputs": [],
   "source": [
    "# 筛选日期\n",
    "for file in data_monthly.keys():\n",
    "    data_monthly[file] = data_monthly[file].loc[data_monthly[file].index>='2000-01-01']\n",
    "    data_mom[file] = data_mom[file].loc[data_mom[file].index>='2000-01-01']\n",
    "    data_yoy[file] = data_yoy[file].loc[data_yoy[file].index>='2000-01-01']"
   ]
  },
  {
   "cell_type": "code",
   "execution_count": 19,
   "metadata": {},
   "outputs": [],
   "source": [
    "# 存储数据\n",
    "# 存储月度数据\n",
    "for file in data_monthly.keys():\n",
    "    data_monthly[file].to_excel('部分宏观指标数据库-转化月度数据/'+file+'-月度.xlsx')\n",
    "    data_mom[file].to_excel('部分宏观指标数据库-转化月度数据/'+file+'-月度环比.xlsx')\n",
    "    data_yoy[file].to_excel('部分宏观指标数据库-转化月度数据/'+file+'-月度同比.xlsx')"
   ]
  }
 ],
 "metadata": {
  "kernelspec": {
   "display_name": "Python 3",
   "language": "python",
   "name": "python3"
  },
  "language_info": {
   "codemirror_mode": {
    "name": "ipython",
    "version": 3
   },
   "file_extension": ".py",
   "mimetype": "text/x-python",
   "name": "python",
   "nbconvert_exporter": "python",
   "pygments_lexer": "ipython3",
   "version": "3.8.3"
  }
 },
 "nbformat": 4,
 "nbformat_minor": 4
}
